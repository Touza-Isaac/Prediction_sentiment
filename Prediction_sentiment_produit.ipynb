{
  "cells": [
    {
      "cell_type": "markdown",
      "metadata": {
        "id": "view-in-github",
        "colab_type": "text"
      },
      "source": [
        "<a href=\"https://colab.research.google.com/github/Touza-Isaac/Prediction_sentiment/blob/main/Prediction_sentiment_produit.ipynb\" target=\"_parent\"><img src=\"https://colab.research.google.com/assets/colab-badge.svg\" alt=\"Open In Colab\"/></a>"
      ]
    },
    {
      "cell_type": "markdown",
      "source": [
        "Nous disposons d'un ensemble de données contenant des commentaires d'utilisateurs sur un site de commerce électronique.\n",
        "\n",
        "Chaque commentaire est étiqueté comme positif (+) ou négatif (-) en fonction du sentiment exprimé.\n",
        "**Travail a faire**:\n",
        "Construire un modèle de classificationde texte pour prédire le sentiment des commentaires non étiquetés."
      ],
      "metadata": {
        "id": "mDzD6UXbDzTO"
      },
      "id": "mDzD6UXbDzTO"
    },
    {
      "cell_type": "code",
      "execution_count": 1,
      "id": "243f2718",
      "metadata": {
        "id": "243f2718"
      },
      "outputs": [],
      "source": [
        "import pandas as pd\n",
        "from sklearn.model_selection import train_test_split\n",
        "from sklearn.preprocessing import StandardScaler"
      ]
    },
    {
      "cell_type": "code",
      "source": [
        "#charger les donnees du dataset\n",
        "donnees = pd.read_csv(\"data_set.csv\")\n",
        "print(\"Apercu des données \\n\", donnees.head())\n"
      ],
      "metadata": {
        "colab": {
          "base_uri": "https://localhost:8080/"
        },
        "id": "3NeheQGmEF9s",
        "outputId": "f548f30c-fd77-488b-afc4-576d261b9ee2"
      },
      "id": "3NeheQGmEF9s",
      "execution_count": 3,
      "outputs": [
        {
          "output_type": "stream",
          "name": "stdout",
          "text": [
            "Apercu des données \n",
            "    Id_Commentaire                                       Commentaires  \\\n",
            "0               1            J'adore ce produit, il est incroyable !   \n",
            "1               2            Super achat, je le recommande vivement.   \n",
            "2               3                          Vous êtes vraiment cool !   \n",
            "3               4     Ce produit répond parfaitement à mes attentes.   \n",
            "4               5  Je suis impressionné par la qualité de cet art...   \n",
            "\n",
            "  Sentiments  \n",
            "0          +  \n",
            "1          +  \n",
            "2          +  \n",
            "3          +  \n",
            "4          +  \n"
          ]
        }
      ]
    },
    {
      "cell_type": "code",
      "source": [
        "#Suppression de la colonne ID qui ne nous servira a rien\n",
        "donnees = donnees.drop(\"Id_Commentaire\", axis=1)\n",
        "print(\"Apercu des données sans la colonne ID \\n\", donnees.head())\n"
      ],
      "metadata": {
        "colab": {
          "base_uri": "https://localhost:8080/"
        },
        "id": "VD9XECEwEMxk",
        "outputId": "c1299ef2-b067-433d-b51b-92a237308cb8"
      },
      "id": "VD9XECEwEMxk",
      "execution_count": 4,
      "outputs": [
        {
          "output_type": "stream",
          "name": "stdout",
          "text": [
            "Apercu des données sans la colonne ID \n",
            "                                         Commentaires Sentiments\n",
            "0            J'adore ce produit, il est incroyable !          +\n",
            "1            Super achat, je le recommande vivement.          +\n",
            "2                          Vous êtes vraiment cool !          +\n",
            "3     Ce produit répond parfaitement à mes attentes.          +\n",
            "4  Je suis impressionné par la qualité de cet art...          +\n"
          ]
        }
      ]
    },
    {
      "cell_type": "code",
      "source": [
        "#Subdivision des variables en variable explicative(commentaires =X) et en variable a expliquée (Sentiments =y) \n",
        "X = donnees[\"Commentaires\"]\n",
        "y = donnees[\"Sentiments\"]"
      ],
      "metadata": {
        "id": "mhLCDU07ES5a"
      },
      "id": "mhLCDU07ES5a",
      "execution_count": 5,
      "outputs": []
    },
    {
      "cell_type": "code",
      "execution_count": 6,
      "id": "2e84f05c",
      "metadata": {
        "colab": {
          "base_uri": "https://localhost:8080/"
        },
        "id": "2e84f05c",
        "outputId": "9697d096-fced-4d3d-dbd4-b0280db4ba79"
      },
      "outputs": [
        {
          "output_type": "stream",
          "name": "stdout",
          "text": [
            "Nombres de valeurs nulles \n",
            " Commentaires    0\n",
            "Sentiments      0\n",
            "dtype: int64\n"
          ]
        }
      ],
      "source": [
        "\n",
        "#Compter les valeurs manquantes\n",
        "print(\"Nombres de valeurs nulles \\n\", donnees.isnull().sum())\n"
      ]
    },
    {
      "cell_type": "code",
      "execution_count": 7,
      "id": "017222a1",
      "metadata": {
        "id": "017222a1"
      },
      "outputs": [],
      "source": [
        "# 3. Subdivision des donnees en donnees d'entrainement(80%) et en donnees de test(20%)\n",
        "Xtrain, Xtest, Ytrain, Ytest = train_test_split(X, y, test_size=0.8, random_state=1)"
      ]
    },
    {
      "cell_type": "code",
      "execution_count": 8,
      "id": "4d6956c9",
      "metadata": {
        "id": "4d6956c9"
      },
      "outputs": [],
      "source": [
        "\n",
        "#Importation des libraries necessaire pour la gestion du modele et du resultat\n",
        "from sklearn.naive_bayes import GaussianNB, MultinomialNB\n",
        "from sklearn.metrics import confusion_matrix, classification_report\n",
        "import seaborn as sns\n",
        "from sklearn import metrics\n",
        "import matplotlib.pyplot as plt"
      ]
    },
    {
      "cell_type": "code",
      "source": [
        "#Transformation des donnees en type de donnees gerable par le modele\n",
        "#Remplacement Sentiments (- par 0 et + par 1)\n",
        "donnees[\"Sentiments\"] = donnees[\"Sentiments\"].map({'-':0, '+':1})\n",
        "print(\"Apercu des données preformatées \\n\", donnees.head())\n"
      ],
      "metadata": {
        "colab": {
          "base_uri": "https://localhost:8080/"
        },
        "id": "bFVonqhEEcY9",
        "outputId": "a0b5ee1e-5555-4848-f429-07b4013b3e2f"
      },
      "id": "bFVonqhEEcY9",
      "execution_count": 12,
      "outputs": [
        {
          "output_type": "stream",
          "name": "stdout",
          "text": [
            "Apercu des données preformatées \n",
            "                                         Commentaires  Sentiments\n",
            "0            J'adore ce produit, il est incroyable !         NaN\n",
            "1            Super achat, je le recommande vivement.         NaN\n",
            "2                          Vous êtes vraiment cool !         NaN\n",
            "3     Ce produit répond parfaitement à mes attentes.         NaN\n",
            "4  Je suis impressionné par la qualité de cet art...         NaN\n"
          ]
        }
      ]
    },
    {
      "cell_type": "code",
      "source": [
        "#Standardisation des donnees \n",
        "#Pre-traitement des textes\n",
        "from sklearn.feature_extraction.text import CountVectorizer\n",
        "vect = CountVectorizer()\n",
        "#Apprendre le vocabulaire des donnees d'entrainement\n",
        "vect.fit(Xtrain)\n",
        "#Examiner le vocabulaire entrainé\n",
        "#vect.get_feature_names()"
      ],
      "metadata": {
        "colab": {
          "base_uri": "https://localhost:8080/",
          "height": 74
        },
        "id": "UtWQvmQCE1Vk",
        "outputId": "c7faf6fa-c3d5-4720-b319-327a5796d9ba"
      },
      "id": "UtWQvmQCE1Vk",
      "execution_count": 18,
      "outputs": [
        {
          "output_type": "execute_result",
          "data": {
            "text/plain": [
              "CountVectorizer()"
            ],
            "text/html": [
              "<style>#sk-container-id-1 {color: black;background-color: white;}#sk-container-id-1 pre{padding: 0;}#sk-container-id-1 div.sk-toggleable {background-color: white;}#sk-container-id-1 label.sk-toggleable__label {cursor: pointer;display: block;width: 100%;margin-bottom: 0;padding: 0.3em;box-sizing: border-box;text-align: center;}#sk-container-id-1 label.sk-toggleable__label-arrow:before {content: \"▸\";float: left;margin-right: 0.25em;color: #696969;}#sk-container-id-1 label.sk-toggleable__label-arrow:hover:before {color: black;}#sk-container-id-1 div.sk-estimator:hover label.sk-toggleable__label-arrow:before {color: black;}#sk-container-id-1 div.sk-toggleable__content {max-height: 0;max-width: 0;overflow: hidden;text-align: left;background-color: #f0f8ff;}#sk-container-id-1 div.sk-toggleable__content pre {margin: 0.2em;color: black;border-radius: 0.25em;background-color: #f0f8ff;}#sk-container-id-1 input.sk-toggleable__control:checked~div.sk-toggleable__content {max-height: 200px;max-width: 100%;overflow: auto;}#sk-container-id-1 input.sk-toggleable__control:checked~label.sk-toggleable__label-arrow:before {content: \"▾\";}#sk-container-id-1 div.sk-estimator input.sk-toggleable__control:checked~label.sk-toggleable__label {background-color: #d4ebff;}#sk-container-id-1 div.sk-label input.sk-toggleable__control:checked~label.sk-toggleable__label {background-color: #d4ebff;}#sk-container-id-1 input.sk-hidden--visually {border: 0;clip: rect(1px 1px 1px 1px);clip: rect(1px, 1px, 1px, 1px);height: 1px;margin: -1px;overflow: hidden;padding: 0;position: absolute;width: 1px;}#sk-container-id-1 div.sk-estimator {font-family: monospace;background-color: #f0f8ff;border: 1px dotted black;border-radius: 0.25em;box-sizing: border-box;margin-bottom: 0.5em;}#sk-container-id-1 div.sk-estimator:hover {background-color: #d4ebff;}#sk-container-id-1 div.sk-parallel-item::after {content: \"\";width: 100%;border-bottom: 1px solid gray;flex-grow: 1;}#sk-container-id-1 div.sk-label:hover label.sk-toggleable__label {background-color: #d4ebff;}#sk-container-id-1 div.sk-serial::before {content: \"\";position: absolute;border-left: 1px solid gray;box-sizing: border-box;top: 0;bottom: 0;left: 50%;z-index: 0;}#sk-container-id-1 div.sk-serial {display: flex;flex-direction: column;align-items: center;background-color: white;padding-right: 0.2em;padding-left: 0.2em;position: relative;}#sk-container-id-1 div.sk-item {position: relative;z-index: 1;}#sk-container-id-1 div.sk-parallel {display: flex;align-items: stretch;justify-content: center;background-color: white;position: relative;}#sk-container-id-1 div.sk-item::before, #sk-container-id-1 div.sk-parallel-item::before {content: \"\";position: absolute;border-left: 1px solid gray;box-sizing: border-box;top: 0;bottom: 0;left: 50%;z-index: -1;}#sk-container-id-1 div.sk-parallel-item {display: flex;flex-direction: column;z-index: 1;position: relative;background-color: white;}#sk-container-id-1 div.sk-parallel-item:first-child::after {align-self: flex-end;width: 50%;}#sk-container-id-1 div.sk-parallel-item:last-child::after {align-self: flex-start;width: 50%;}#sk-container-id-1 div.sk-parallel-item:only-child::after {width: 0;}#sk-container-id-1 div.sk-dashed-wrapped {border: 1px dashed gray;margin: 0 0.4em 0.5em 0.4em;box-sizing: border-box;padding-bottom: 0.4em;background-color: white;}#sk-container-id-1 div.sk-label label {font-family: monospace;font-weight: bold;display: inline-block;line-height: 1.2em;}#sk-container-id-1 div.sk-label-container {text-align: center;}#sk-container-id-1 div.sk-container {/* jupyter's `normalize.less` sets `[hidden] { display: none; }` but bootstrap.min.css set `[hidden] { display: none !important; }` so we also need the `!important` here to be able to override the default hidden behavior on the sphinx rendered scikit-learn.org. See: https://github.com/scikit-learn/scikit-learn/issues/21755 */display: inline-block !important;position: relative;}#sk-container-id-1 div.sk-text-repr-fallback {display: none;}</style><div id=\"sk-container-id-1\" class=\"sk-top-container\"><div class=\"sk-text-repr-fallback\"><pre>CountVectorizer()</pre><b>In a Jupyter environment, please rerun this cell to show the HTML representation or trust the notebook. <br />On GitHub, the HTML representation is unable to render, please try loading this page with nbviewer.org.</b></div><div class=\"sk-container\" hidden><div class=\"sk-item\"><div class=\"sk-estimator sk-toggleable\"><input class=\"sk-toggleable__control sk-hidden--visually\" id=\"sk-estimator-id-1\" type=\"checkbox\" checked><label for=\"sk-estimator-id-1\" class=\"sk-toggleable__label sk-toggleable__label-arrow\">CountVectorizer</label><div class=\"sk-toggleable__content\"><pre>CountVectorizer()</pre></div></div></div></div></div>"
            ]
          },
          "metadata": {},
          "execution_count": 18
        }
      ]
    },
    {
      "cell_type": "code",
      "execution_count": 19,
      "id": "50113832",
      "metadata": {
        "colab": {
          "base_uri": "https://localhost:8080/",
          "height": 1000
        },
        "id": "50113832",
        "outputId": "16d21f2f-f76b-43a2-86e9-59d9a2c5e540"
      },
      "outputs": [
        {
          "output_type": "stream",
          "name": "stdout",
          "text": [
            "Apercu des matrices document-termes créés \n",
            "   (0, 0)\t1\n",
            "  (0, 2)\t1\n",
            "  (0, 3)\t1\n",
            "  (0, 12)\t1\n",
            "  (0, 17)\t1\n",
            "  (0, 26)\t1\n",
            "  (0, 49)\t1\n",
            "  (0, 57)\t1\n",
            "  (0, 75)\t1\n",
            "  (0, 81)\t1\n",
            "  (0, 89)\t1\n",
            "  (0, 94)\t1\n",
            "  (0, 97)\t1\n",
            "  (1, 10)\t1\n",
            "  (1, 17)\t1\n",
            "  (1, 33)\t1\n",
            "  (1, 36)\t1\n",
            "  (1, 49)\t1\n",
            "  (1, 50)\t1\n",
            "  (1, 51)\t1\n",
            "  (1, 73)\t1\n",
            "  (1, 80)\t1\n",
            "  (1, 82)\t1\n",
            "  (1, 104)\t1\n",
            "  (1, 109)\t1\n",
            "  :\t:\n",
            "  (17, 33)\t1\n",
            "  (17, 72)\t1\n",
            "  (17, 73)\t1\n",
            "  (17, 83)\t1\n",
            "  (18, 5)\t1\n",
            "  (18, 6)\t1\n",
            "  (18, 12)\t1\n",
            "  (18, 32)\t1\n",
            "  (18, 33)\t1\n",
            "  (18, 48)\t1\n",
            "  (18, 101)\t1\n",
            "  (19, 10)\t1\n",
            "  (19, 17)\t1\n",
            "  (19, 44)\t1\n",
            "  (19, 52)\t1\n",
            "  (19, 55)\t1\n",
            "  (19, 56)\t1\n",
            "  (19, 70)\t1\n",
            "  (19, 73)\t1\n",
            "  (19, 74)\t1\n",
            "  (19, 77)\t1\n",
            "  (19, 90)\t1\n",
            "  (19, 93)\t2\n",
            "  (19, 103)\t1\n",
            "  (19, 106)\t1\n"
          ]
        },
        {
          "output_type": "execute_result",
          "data": {
            "text/plain": [
              "MultinomialNB()"
            ],
            "text/html": [
              "<style>#sk-container-id-2 {color: black;background-color: white;}#sk-container-id-2 pre{padding: 0;}#sk-container-id-2 div.sk-toggleable {background-color: white;}#sk-container-id-2 label.sk-toggleable__label {cursor: pointer;display: block;width: 100%;margin-bottom: 0;padding: 0.3em;box-sizing: border-box;text-align: center;}#sk-container-id-2 label.sk-toggleable__label-arrow:before {content: \"▸\";float: left;margin-right: 0.25em;color: #696969;}#sk-container-id-2 label.sk-toggleable__label-arrow:hover:before {color: black;}#sk-container-id-2 div.sk-estimator:hover label.sk-toggleable__label-arrow:before {color: black;}#sk-container-id-2 div.sk-toggleable__content {max-height: 0;max-width: 0;overflow: hidden;text-align: left;background-color: #f0f8ff;}#sk-container-id-2 div.sk-toggleable__content pre {margin: 0.2em;color: black;border-radius: 0.25em;background-color: #f0f8ff;}#sk-container-id-2 input.sk-toggleable__control:checked~div.sk-toggleable__content {max-height: 200px;max-width: 100%;overflow: auto;}#sk-container-id-2 input.sk-toggleable__control:checked~label.sk-toggleable__label-arrow:before {content: \"▾\";}#sk-container-id-2 div.sk-estimator input.sk-toggleable__control:checked~label.sk-toggleable__label {background-color: #d4ebff;}#sk-container-id-2 div.sk-label input.sk-toggleable__control:checked~label.sk-toggleable__label {background-color: #d4ebff;}#sk-container-id-2 input.sk-hidden--visually {border: 0;clip: rect(1px 1px 1px 1px);clip: rect(1px, 1px, 1px, 1px);height: 1px;margin: -1px;overflow: hidden;padding: 0;position: absolute;width: 1px;}#sk-container-id-2 div.sk-estimator {font-family: monospace;background-color: #f0f8ff;border: 1px dotted black;border-radius: 0.25em;box-sizing: border-box;margin-bottom: 0.5em;}#sk-container-id-2 div.sk-estimator:hover {background-color: #d4ebff;}#sk-container-id-2 div.sk-parallel-item::after {content: \"\";width: 100%;border-bottom: 1px solid gray;flex-grow: 1;}#sk-container-id-2 div.sk-label:hover label.sk-toggleable__label {background-color: #d4ebff;}#sk-container-id-2 div.sk-serial::before {content: \"\";position: absolute;border-left: 1px solid gray;box-sizing: border-box;top: 0;bottom: 0;left: 50%;z-index: 0;}#sk-container-id-2 div.sk-serial {display: flex;flex-direction: column;align-items: center;background-color: white;padding-right: 0.2em;padding-left: 0.2em;position: relative;}#sk-container-id-2 div.sk-item {position: relative;z-index: 1;}#sk-container-id-2 div.sk-parallel {display: flex;align-items: stretch;justify-content: center;background-color: white;position: relative;}#sk-container-id-2 div.sk-item::before, #sk-container-id-2 div.sk-parallel-item::before {content: \"\";position: absolute;border-left: 1px solid gray;box-sizing: border-box;top: 0;bottom: 0;left: 50%;z-index: -1;}#sk-container-id-2 div.sk-parallel-item {display: flex;flex-direction: column;z-index: 1;position: relative;background-color: white;}#sk-container-id-2 div.sk-parallel-item:first-child::after {align-self: flex-end;width: 50%;}#sk-container-id-2 div.sk-parallel-item:last-child::after {align-self: flex-start;width: 50%;}#sk-container-id-2 div.sk-parallel-item:only-child::after {width: 0;}#sk-container-id-2 div.sk-dashed-wrapped {border: 1px dashed gray;margin: 0 0.4em 0.5em 0.4em;box-sizing: border-box;padding-bottom: 0.4em;background-color: white;}#sk-container-id-2 div.sk-label label {font-family: monospace;font-weight: bold;display: inline-block;line-height: 1.2em;}#sk-container-id-2 div.sk-label-container {text-align: center;}#sk-container-id-2 div.sk-container {/* jupyter's `normalize.less` sets `[hidden] { display: none; }` but bootstrap.min.css set `[hidden] { display: none !important; }` so we also need the `!important` here to be able to override the default hidden behavior on the sphinx rendered scikit-learn.org. See: https://github.com/scikit-learn/scikit-learn/issues/21755 */display: inline-block !important;position: relative;}#sk-container-id-2 div.sk-text-repr-fallback {display: none;}</style><div id=\"sk-container-id-2\" class=\"sk-top-container\"><div class=\"sk-text-repr-fallback\"><pre>MultinomialNB()</pre><b>In a Jupyter environment, please rerun this cell to show the HTML representation or trust the notebook. <br />On GitHub, the HTML representation is unable to render, please try loading this page with nbviewer.org.</b></div><div class=\"sk-container\" hidden><div class=\"sk-item\"><div class=\"sk-estimator sk-toggleable\"><input class=\"sk-toggleable__control sk-hidden--visually\" id=\"sk-estimator-id-2\" type=\"checkbox\" checked><label for=\"sk-estimator-id-2\" class=\"sk-toggleable__label sk-toggleable__label-arrow\">MultinomialNB</label><div class=\"sk-toggleable__content\"><pre>MultinomialNB()</pre></div></div></div></div></div>"
            ]
          },
          "metadata": {},
          "execution_count": 19
        }
      ],
      "source": [
        "\n",
        "#Transformer les donnees d'entrainement en une matrice document-terme\n",
        "simple_train_doc = vect.transform(Xtrain)\n",
        "print(\"Apercu des matrices document-termes créés \\n\", simple_train_doc)\n",
        "\n",
        "#Transformer les donnees de test(en utilisant un vocabulaire adapté) en une matrice de termes de documents\n",
        "simple_test_doc = vect.transform(Xtest)\n",
        "\n",
        "#Initier un modele bayesien multinomial\n",
        "model = MultinomialNB()\n",
        "\n",
        "#Entrainement du modele\n",
        "model.fit(simple_train_doc, Ytrain)\n"
      ]
    },
    {
      "cell_type": "code",
      "execution_count": 20,
      "id": "835416ef",
      "metadata": {
        "id": "835416ef"
      },
      "outputs": [],
      "source": [
        "#Prediction des nouvelles valeurs\n",
        "y_pred = model.predict(simple_test_doc)"
      ]
    },
    {
      "cell_type": "code",
      "execution_count": null,
      "id": "b5aca6c3",
      "metadata": {
        "id": "b5aca6c3"
      },
      "outputs": [],
      "source": []
    },
    {
      "cell_type": "code",
      "execution_count": 21,
      "id": "d12c8974",
      "metadata": {
        "colab": {
          "base_uri": "https://localhost:8080/"
        },
        "id": "d12c8974",
        "outputId": "ae950807-6fbf-495c-9ca1-eb88976f939a"
      },
      "outputs": [
        {
          "output_type": "execute_result",
          "data": {
            "text/plain": [
              "+    41\n",
              "-    39\n",
              "Name: Sentiments, dtype: int64"
            ]
          },
          "metadata": {},
          "execution_count": 21
        }
      ],
      "source": [
        "#Examine class de distribution\n",
        "Ytest.value_counts()"
      ]
    },
    {
      "cell_type": "code",
      "execution_count": 22,
      "id": "571b3745",
      "metadata": {
        "colab": {
          "base_uri": "https://localhost:8080/"
        },
        "id": "571b3745",
        "outputId": "6404cb27-4db9-4247-9ad6-65a086651012"
      },
      "outputs": [
        {
          "output_type": "execute_result",
          "data": {
            "text/plain": [
              "array([[34,  7],\n",
              "       [16, 23]])"
            ]
          },
          "metadata": {},
          "execution_count": 22
        }
      ],
      "source": [
        "#5. Generer la matrice de confusion construit\n",
        "y_pred = model.predict(simple_test_doc)\n",
        "confusion = confusion_matrix(Ytest, y_pred)\n",
        "confusion"
      ]
    },
    {
      "cell_type": "code",
      "execution_count": 23,
      "id": "586b4026",
      "metadata": {
        "colab": {
          "base_uri": "https://localhost:8080/",
          "height": 472
        },
        "id": "586b4026",
        "outputId": "1b06ed0f-3e2b-4938-bb40-ebb2cc0a45b4"
      },
      "outputs": [
        {
          "output_type": "display_data",
          "data": {
            "text/plain": [
              "<Figure size 640x480 with 2 Axes>"
            ],
            "image/png": "[encoded data removed]"
          },
          "metadata": {}
        }
      ],
      "source": [
        "#Impression de la matrice de confusion et enregistrement sous forme d'image\n",
        "sns.heatmap(confusion, annot=True, cmap=\"Blues\")\n",
        "plt.xlabel(\"Predictions\")\n",
        "plt.ylabel(\"Valeurs reelles\")\n",
        "plt.title(\"Matrice de confusion\")\n",
        "plt.savefig(\"Matrice_confusion.png\")\n",
        "plt.show()"
      ]
    },
    {
      "cell_type": "code",
      "execution_count": 24,
      "id": "8f9f05fc",
      "metadata": {
        "colab": {
          "base_uri": "https://localhost:8080/"
        },
        "id": "8f9f05fc",
        "outputId": "ea5d23ce-7654-45af-931e-1fef7c147adb"
      },
      "outputs": [
        {
          "output_type": "stream",
          "name": "stdout",
          "text": [
            "              precision    recall  f1-score   support\n",
            "\n",
            "           +       0.68      0.83      0.75        41\n",
            "           -       0.77      0.59      0.67        39\n",
            "\n",
            "    accuracy                           0.71        80\n",
            "   macro avg       0.72      0.71      0.71        80\n",
            "weighted avg       0.72      0.71      0.71        80\n",
            "\n"
          ]
        }
      ],
      "source": [
        "#6. Impression du rapport de classification\n",
        "print(classification_report(Ytest, y_pred, zero_division=1))"
      ]
    },
    {
      "cell_type": "code",
      "execution_count": 25,
      "id": "196a57d5",
      "metadata": {
        "colab": {
          "base_uri": "https://localhost:8080/"
        },
        "id": "196a57d5",
        "outputId": "b76a75b8-0f4d-483f-e67d-2509bece6173"
      },
      "outputs": [
        {
          "output_type": "execute_result",
          "data": {
            "text/plain": [
              "0.7125"
            ]
          },
          "metadata": {},
          "execution_count": 25
        }
      ],
      "source": [
        "#Evaluation de la performance du modele\n",
        "#Calcul de la precision des predictions\n",
        "metrics.accuracy_score(Ytest, y_pred)"
      ]
    },
    {
      "cell_type": "code",
      "execution_count": 26,
      "id": "6544078a",
      "metadata": {
        "colab": {
          "base_uri": "https://localhost:8080/"
        },
        "id": "6544078a",
        "outputId": "75c753f6-4340-4a9c-fd0b-e30c10684c38"
      },
      "outputs": [
        {
          "output_type": "stream",
          "name": "stdout",
          "text": [
            "                          Commentaires Sentiments predits\n",
            "0          Ce produit est incroyable !                  +\n",
            "1           Je suis déçu de mon achat.                  +\n",
            "2  Le service client est exceptionnel.                  -\n",
            "3                Vous êtes le meilleur                  -\n"
          ]
        }
      ],
      "source": [
        "#7. Utilisation du modèle entraîné pour prédire le sentiment des commentaires non étiqueté\n",
        "new_comments = [\"Ce produit est incroyable !\", \"Je suis déçu de mon achat\",\n",
        "                \"Le service client est exceptionnel.\",\" Vous êtes le meilleur\"]\n",
        "nouvelles_donnees = vect.transform(new_comments)\n",
        "predictions = model.predict(nouvelles_donnees)\n",
        "les_predictions = pd.DataFrame({'Commentaires':[\"Ce produit est incroyable !\",\n",
        "                                                  \"Je suis déçu de mon achat.\",\n",
        "                                                  \"Le service client est exceptionnel.\",\n",
        "                                                  \" Vous êtes le meilleur\"],\n",
        "                                'Sentiments predits': predictions})\n",
        "print(les_predictions)"
      ]
    },
    {
      "cell_type": "code",
      "execution_count": null,
      "id": "2abf7a6e",
      "metadata": {
        "id": "2abf7a6e"
      },
      "outputs": [],
      "source": []
    }
  ],
  "metadata": {
    "kernelspec": {
      "display_name": "Python 3 (ipykernel)",
      "language": "python",
      "name": "python3"
    },
    "language_info": {
      "codemirror_mode": {
        "name": "ipython",
        "version": 3
      },
      "file_extension": ".py",
      "mimetype": "text/x-python",
      "name": "python",
      "nbconvert_exporter": "python",
      "pygments_lexer": "ipython3",
      "version": "3.10.7"
    },
    "colab": {
      "provenance": [],
      "include_colab_link": true
    }
  },
  "nbformat": 4,
  "nbformat_minor": 5
}